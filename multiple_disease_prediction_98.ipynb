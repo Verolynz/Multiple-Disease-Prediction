{
  "metadata": {
    "kernelspec": {
      "name": "python3",
      "display_name": "Python 3",
      "language": "python"
    },
    "language_info": {
      "name": "python",
      "version": "3.10.13",
      "mimetype": "text/x-python",
      "codemirror_mode": {
        "name": "ipython",
        "version": 3
      },
      "pygments_lexer": "ipython3",
      "nbconvert_exporter": "python",
      "file_extension": ".py"
    },
    "colab": {
      "provenance": [],
      "gpuType": "T4",
      "toc_visible": true,
      "name": "multiple_disease_prediction %98",
      "include_colab_link": true
    },
    "kaggle": {
      "accelerator": "none",
      "dataSources": [
        {
          "sourceId": 7752217,
          "sourceType": "datasetVersion",
          "datasetId": 4532617
        }
      ],
      "dockerImageVersionId": 30664,
      "isInternetEnabled": true,
      "language": "python",
      "sourceType": "notebook",
      "isGpuEnabled": false
    }
  },
  "nbformat_minor": 0,
  "nbformat": 4,
  "cells": [
    {
      "cell_type": "markdown",
      "metadata": {
        "id": "view-in-github",
        "colab_type": "text"
      },
      "source": [
        "<a href=\"https://colab.research.google.com/github/Verolynz/Multiple-Disease-Prediction/blob/main/multiple_disease_prediction_98.ipynb\" target=\"_parent\"><img src=\"https://colab.research.google.com/assets/colab-badge.svg\" alt=\"Open In Colab\"/></a>"
      ]
    },
    {
      "source": [
        "\n",
        "# IMPORTANT: RUN THIS CELL IN ORDER TO IMPORT YOUR KAGGLE DATA SOURCES\n",
        "# TO THE CORRECT LOCATION (/kaggle/input) IN YOUR NOTEBOOK,\n",
        "# THEN FEEL FREE TO DELETE THIS CELL.\n",
        "# NOTE: THIS NOTEBOOK ENVIRONMENT DIFFERS FROM KAGGLE'S PYTHON\n",
        "# ENVIRONMENT SO THERE MAY BE MISSING LIBRARIES USED BY YOUR\n",
        "# NOTEBOOK.\n",
        "\n",
        "import os\n",
        "import sys\n",
        "from tempfile import NamedTemporaryFile\n",
        "from urllib.request import urlopen\n",
        "from urllib.parse import unquote, urlparse\n",
        "from urllib.error import HTTPError\n",
        "from zipfile import ZipFile\n",
        "import tarfile\n",
        "import shutil\n",
        "\n",
        "CHUNK_SIZE = 40960\n",
        "DATA_SOURCE_MAPPING = 'multiple-disease-prediction:https%3A%2F%2Fstorage.googleapis.com%2Fkaggle-data-sets%2F4532617%2F7752217%2Fbundle%2Farchive.zip%3FX-Goog-Algorithm%3DGOOG4-RSA-SHA256%26X-Goog-Credential%3Dgcp-kaggle-com%2540kaggle-161607.iam.gserviceaccount.com%252F20240605%252Fauto%252Fstorage%252Fgoog4_request%26X-Goog-Date%3D20240605T030235Z%26X-Goog-Expires%3D259200%26X-Goog-SignedHeaders%3Dhost%26X-Goog-Signature%3D5bd0ed6e27a2fc5d5ef6184aa2883ff8fe1317d7b3b04c62f93725a88c40ee0d8f10b31e07efa3532c1a1e55c21001def9e8bc80d105987cb699d792bb373ce06d95b1564215479784089e5d451f2901ef8b519e16ae6fcc3220d1104b19b1afdf9333cc4b9fae1eb9610c5540979ca8b598a58120856e007d7e5c4bc0b4a445c2e421f4111ed1389fec6df195baf6adf24d65566b97fe4be1604ddd6617664854df087360f1831c027cdd04077aafa583e33588e7888cd381d9f57e648ea3599cfac77cca885ecaedc1a9184bac554b107dfaf661020989a3fe6989380de59eaa3ae6549bc16a90568f72cd942a4d41b4d635c6093ee27c66a25b11f8abb333'\n",
        "\n",
        "KAGGLE_INPUT_PATH='/kaggle/input'\n",
        "KAGGLE_WORKING_PATH='/kaggle/working'\n",
        "KAGGLE_SYMLINK='kaggle'\n",
        "\n",
        "!umount /kaggle/input/ 2> /dev/null\n",
        "shutil.rmtree('/kaggle/input', ignore_errors=True)\n",
        "os.makedirs(KAGGLE_INPUT_PATH, 0o777, exist_ok=True)\n",
        "os.makedirs(KAGGLE_WORKING_PATH, 0o777, exist_ok=True)\n",
        "\n",
        "try:\n",
        "  os.symlink(KAGGLE_INPUT_PATH, os.path.join(\"..\", 'input'), target_is_directory=True)\n",
        "except FileExistsError:\n",
        "  pass\n",
        "try:\n",
        "  os.symlink(KAGGLE_WORKING_PATH, os.path.join(\"..\", 'working'), target_is_directory=True)\n",
        "except FileExistsError:\n",
        "  pass\n",
        "\n",
        "for data_source_mapping in DATA_SOURCE_MAPPING.split(','):\n",
        "    directory, download_url_encoded = data_source_mapping.split(':')\n",
        "    download_url = unquote(download_url_encoded)\n",
        "    filename = urlparse(download_url).path\n",
        "    destination_path = os.path.join(KAGGLE_INPUT_PATH, directory)\n",
        "    try:\n",
        "        with urlopen(download_url) as fileres, NamedTemporaryFile() as tfile:\n",
        "            total_length = fileres.headers['content-length']\n",
        "            print(f'Downloading {directory}, {total_length} bytes compressed')\n",
        "            dl = 0\n",
        "            data = fileres.read(CHUNK_SIZE)\n",
        "            while len(data) > 0:\n",
        "                dl += len(data)\n",
        "                tfile.write(data)\n",
        "                done = int(50 * dl / int(total_length))\n",
        "                sys.stdout.write(f\"\\r[{'=' * done}{' ' * (50-done)}] {dl} bytes downloaded\")\n",
        "                sys.stdout.flush()\n",
        "                data = fileres.read(CHUNK_SIZE)\n",
        "            if filename.endswith('.zip'):\n",
        "              with ZipFile(tfile) as zfile:\n",
        "                zfile.extractall(destination_path)\n",
        "            else:\n",
        "              with tarfile.open(tfile.name) as tarfile:\n",
        "                tarfile.extractall(destination_path)\n",
        "            print(f'\\nDownloaded and uncompressed: {directory}')\n",
        "    except HTTPError as e:\n",
        "        print(f'Failed to load (likely expired) {download_url} to path {destination_path}')\n",
        "        continue\n",
        "    except OSError as e:\n",
        "        print(f'Failed to load {download_url} to path {destination_path}')\n",
        "        continue\n",
        "\n",
        "print('Data source import complete.')\n"
      ],
      "metadata": {
        "id": "kqgU06akeEoU"
      },
      "cell_type": "code",
      "outputs": [],
      "execution_count": null
    },
    {
      "cell_type": "code",
      "source": [
        "# This Python 3 environment comes with many helpful analytics libraries installed\n",
        "# It is defined by the kaggle/python Docker image: https://github.com/kaggle/docker-python\n",
        "# For example, here's several helpful packages to load\n",
        "\n",
        "import numpy as np # linear algebra\n",
        "import pandas as pd # data processing, CSV file I/O (e.g. pd.read_csv)\n",
        "\n",
        "# Input data files are available in the read-only \"../input/\" directory\n",
        "# For example, running this (by clicking run or pressing Shift+Enter) will list all files under the input directory\n",
        "\n",
        "import os\n",
        "for dirname, _, filenames in os.walk('/kaggle/input'):\n",
        "    for filename in filenames:\n",
        "        print(os.path.join(dirname, filename))\n",
        "\n",
        "# You can write up to 20GB to the current directory (/kaggle/working/) that gets preserved as output when you create a version using \"Save & Run All\"\n",
        "# You can also write temporary files to /kaggle/temp/, but they won't be saved outside of the current session"
      ],
      "metadata": {
        "execution": {
          "iopub.status.busy": "2024-03-16T13:23:54.962461Z",
          "iopub.execute_input": "2024-03-16T13:23:54.962874Z",
          "iopub.status.idle": "2024-03-16T13:23:54.974587Z",
          "shell.execute_reply.started": "2024-03-16T13:23:54.962839Z",
          "shell.execute_reply": "2024-03-16T13:23:54.972973Z"
        },
        "trusted": true,
        "id": "6U0-l8LfeEoV"
      },
      "execution_count": null,
      "outputs": []
    },
    {
      "cell_type": "code",
      "source": [
        "# Basic Libraries\n",
        "import pandas as pd\n",
        "import numpy as np\n",
        "import matplotlib.pyplot as plt\n",
        "import seaborn as sns\n",
        "\n",
        "# warnings removal\n",
        "import warnings\n",
        "warnings.filterwarnings(\"ignore\")\n",
        "\n",
        "from sklearn.preprocessing import StandardScaler\n",
        "from sklearn.tree import DecisionTreeClassifier\n",
        "from sklearn.ensemble import RandomForestClassifier, AdaBoostClassifier, GradientBoostingClassifier\n",
        "from xgboost import XGBClassifier\n",
        "from sklearn.linear_model import LogisticRegression\n",
        "from sklearn.metrics import accuracy_score,confusion_matrix,roc_auc_score\n",
        "from sklearn.feature_selection import RFE,SelectKBest,SelectFromModel\n",
        "from sklearn.model_selection import GridSearchCV,cross_val_score,StratifiedKFold\n",
        "from sklearn.pipeline import Pipeline\n",
        "from sklearn.metrics import accuracy_score, precision_score, recall_score, f1_score\n",
        "\n",
        "\n",
        "import tensorflow as tf\n",
        "from tensorflow.keras.callbacks import EarlyStopping"
      ],
      "metadata": {
        "execution": {
          "iopub.status.busy": "2024-03-16T13:23:54.976584Z",
          "iopub.execute_input": "2024-03-16T13:23:54.976959Z",
          "iopub.status.idle": "2024-03-16T13:23:54.985969Z",
          "shell.execute_reply.started": "2024-03-16T13:23:54.976927Z",
          "shell.execute_reply": "2024-03-16T13:23:54.984845Z"
        },
        "trusted": true,
        "id": "5J08SbEseEoW"
      },
      "execution_count": null,
      "outputs": []
    },
    {
      "cell_type": "markdown",
      "source": [
        "# Preprocessing"
      ],
      "metadata": {
        "id": "F_asAzHNeEoW"
      }
    },
    {
      "cell_type": "code",
      "source": [
        "# defining dataframes\n",
        "train_df = pd.read_csv('/kaggle/input/multiple-disease-prediction/Blood_samples_dataset_balanced_2(f).csv')\n",
        "test_df = pd.read_csv('/kaggle/input/multiple-disease-prediction/blood_samples_dataset_test.csv')"
      ],
      "metadata": {
        "id": "d1b51d48",
        "execution": {
          "iopub.status.busy": "2024-03-16T13:23:54.987416Z",
          "iopub.execute_input": "2024-03-16T13:23:54.98891Z",
          "iopub.status.idle": "2024-03-16T13:23:55.02964Z",
          "shell.execute_reply.started": "2024-03-16T13:23:54.988865Z",
          "shell.execute_reply": "2024-03-16T13:23:55.028476Z"
        },
        "trusted": true
      },
      "execution_count": null,
      "outputs": []
    },
    {
      "cell_type": "code",
      "source": [
        "# checking train_df\n",
        "train_df.head()"
      ],
      "metadata": {
        "id": "b6cf9e01",
        "execution": {
          "iopub.status.busy": "2024-03-16T13:23:55.032696Z",
          "iopub.execute_input": "2024-03-16T13:23:55.03345Z",
          "iopub.status.idle": "2024-03-16T13:23:55.062111Z",
          "shell.execute_reply.started": "2024-03-16T13:23:55.033412Z",
          "shell.execute_reply": "2024-03-16T13:23:55.060858Z"
        },
        "trusted": true
      },
      "execution_count": null,
      "outputs": []
    },
    {
      "cell_type": "code",
      "source": [
        "print('train shape:',train_df.shape)\n",
        "print('test shape: ',test_df.shape)"
      ],
      "metadata": {
        "id": "e90502d2",
        "execution": {
          "iopub.status.busy": "2024-03-16T13:23:55.063705Z",
          "iopub.execute_input": "2024-03-16T13:23:55.064124Z",
          "iopub.status.idle": "2024-03-16T13:23:55.070663Z",
          "shell.execute_reply.started": "2024-03-16T13:23:55.064084Z",
          "shell.execute_reply": "2024-03-16T13:23:55.069559Z"
        },
        "trusted": true
      },
      "execution_count": null,
      "outputs": []
    },
    {
      "cell_type": "code",
      "source": [
        "train_df.dtypes"
      ],
      "metadata": {
        "scrolled": true,
        "id": "6fb3e45a",
        "execution": {
          "iopub.status.busy": "2024-03-16T13:23:55.072837Z",
          "iopub.execute_input": "2024-03-16T13:23:55.073185Z",
          "iopub.status.idle": "2024-03-16T13:23:55.088001Z",
          "shell.execute_reply.started": "2024-03-16T13:23:55.073156Z",
          "shell.execute_reply": "2024-03-16T13:23:55.086964Z"
        },
        "trusted": true
      },
      "execution_count": null,
      "outputs": []
    },
    {
      "cell_type": "code",
      "source": [
        "# Are there any missing values?\n",
        "print('train_df missing values: ',train_df.isna().sum().sum())\n",
        "print('test_df missing values: ',test_df.isna().sum().sum())"
      ],
      "metadata": {
        "id": "767abc00",
        "execution": {
          "iopub.status.busy": "2024-03-16T13:23:55.089533Z",
          "iopub.execute_input": "2024-03-16T13:23:55.089987Z",
          "iopub.status.idle": "2024-03-16T13:23:55.09959Z",
          "shell.execute_reply.started": "2024-03-16T13:23:55.089956Z",
          "shell.execute_reply": "2024-03-16T13:23:55.098605Z"
        },
        "trusted": true
      },
      "execution_count": null,
      "outputs": []
    },
    {
      "cell_type": "code",
      "source": [
        "# Unique variables in the target column of the training set.\n",
        "print('-------train set-------')\n",
        "print(f'Unique variables in the target column: {train_df.Disease.unique()}\\nthe number of unique variables in the target column: {train_df.Disease.nunique()}\\n')\n",
        "# Unique variables in the target column of the test set.\n",
        "print('-------test set-------')\n",
        "print(f'Unique variables in the target column: {test_df.Disease.unique()}\\nthe number of unique variables in the target column: {test_df.Disease.nunique()}')\n"
      ],
      "metadata": {
        "id": "s6IgJ3YK_K8e",
        "execution": {
          "iopub.status.busy": "2024-03-16T13:23:55.101411Z",
          "iopub.execute_input": "2024-03-16T13:23:55.101853Z",
          "iopub.status.idle": "2024-03-16T13:23:55.110205Z",
          "shell.execute_reply.started": "2024-03-16T13:23:55.101814Z",
          "shell.execute_reply": "2024-03-16T13:23:55.10918Z"
        },
        "trusted": true
      },
      "execution_count": null,
      "outputs": []
    },
    {
      "cell_type": "code",
      "source": [
        "# Let's combine 2 data frames.\n",
        "data = pd.concat([train_df,test_df],ignore_index=True)"
      ],
      "metadata": {
        "id": "622ba388",
        "execution": {
          "iopub.status.busy": "2024-03-16T13:23:55.111668Z",
          "iopub.execute_input": "2024-03-16T13:23:55.112865Z",
          "iopub.status.idle": "2024-03-16T13:23:55.119406Z",
          "shell.execute_reply.started": "2024-03-16T13:23:55.112823Z",
          "shell.execute_reply": "2024-03-16T13:23:55.118327Z"
        },
        "trusted": true
      },
      "execution_count": null,
      "outputs": []
    },
    {
      "cell_type": "code",
      "source": [
        "# let's check our new data frame.\n",
        "data.head()"
      ],
      "metadata": {
        "id": "2a67eee7",
        "execution": {
          "iopub.status.busy": "2024-03-16T13:23:55.1243Z",
          "iopub.execute_input": "2024-03-16T13:23:55.124966Z",
          "iopub.status.idle": "2024-03-16T13:23:55.153895Z",
          "shell.execute_reply.started": "2024-03-16T13:23:55.124933Z",
          "shell.execute_reply": "2024-03-16T13:23:55.152862Z"
        },
        "trusted": true
      },
      "execution_count": null,
      "outputs": []
    },
    {
      "cell_type": "code",
      "source": [
        "data.shape # (rows, columns)"
      ],
      "metadata": {
        "id": "98121b7e",
        "execution": {
          "iopub.status.busy": "2024-03-16T13:23:55.155201Z",
          "iopub.execute_input": "2024-03-16T13:23:55.15555Z",
          "iopub.status.idle": "2024-03-16T13:23:55.164049Z",
          "shell.execute_reply.started": "2024-03-16T13:23:55.155519Z",
          "shell.execute_reply": "2024-03-16T13:23:55.162647Z"
        },
        "trusted": true
      },
      "execution_count": null,
      "outputs": []
    },
    {
      "cell_type": "code",
      "source": [
        "# Let's find out how many of each class there\n",
        "data.Disease.value_counts()"
      ],
      "metadata": {
        "id": "23ab11d9",
        "execution": {
          "iopub.status.busy": "2024-03-16T13:23:55.165636Z",
          "iopub.execute_input": "2024-03-16T13:23:55.166354Z",
          "iopub.status.idle": "2024-03-16T13:23:55.176732Z",
          "shell.execute_reply.started": "2024-03-16T13:23:55.166319Z",
          "shell.execute_reply": "2024-03-16T13:23:55.175842Z"
        },
        "trusted": true
      },
      "execution_count": null,
      "outputs": []
    },
    {
      "cell_type": "code",
      "source": [
        "# Let's convert our target column to numeric values.\n",
        "data.Disease = data.Disease.astype('category')\n",
        "d = dict(enumerate(data['Disease'].cat.categories))\n",
        "data.Disease = data.Disease.cat.codes.values\n",
        "data.Disease"
      ],
      "metadata": {
        "id": "17cbcc5d",
        "execution": {
          "iopub.status.busy": "2024-03-16T13:23:55.177909Z",
          "iopub.execute_input": "2024-03-16T13:23:55.178298Z",
          "iopub.status.idle": "2024-03-16T13:23:55.192561Z",
          "shell.execute_reply.started": "2024-03-16T13:23:55.178268Z",
          "shell.execute_reply": "2024-03-16T13:23:55.191415Z"
        },
        "trusted": true
      },
      "execution_count": null,
      "outputs": []
    },
    {
      "cell_type": "code",
      "source": [
        "# Make a correlation matrix\n",
        "plt.figure(figsize=(20, 10))\n",
        "heatmap = sns.heatmap(data.corr(), vmin=-1, vmax=1, annot=True,cmap='BrBG')\n",
        "heatmap.set_title('Correlation Heatmap', fontdict={'fontsize':14}, pad=12)"
      ],
      "metadata": {
        "id": "7930171c",
        "execution": {
          "iopub.status.busy": "2024-03-16T13:23:55.194726Z",
          "iopub.execute_input": "2024-03-16T13:23:55.196463Z",
          "iopub.status.idle": "2024-03-16T13:23:58.384442Z",
          "shell.execute_reply.started": "2024-03-16T13:23:55.19643Z",
          "shell.execute_reply": "2024-03-16T13:23:58.383285Z"
        },
        "trusted": true
      },
      "execution_count": null,
      "outputs": []
    },
    {
      "cell_type": "markdown",
      "source": [
        "2: Healty  \n",
        "1: Diabetes\n",
        "4: Thalasse  \n",
        "0: Anemia  \n",
        "5: Thromboc  \n",
        "3: Heart Di"
      ],
      "metadata": {
        "id": "667f11c0"
      }
    },
    {
      "cell_type": "code",
      "source": [
        "# Let's find how many of each class there are in the bar chart.\n",
        "counts = data[data.columns[-1]].value_counts()\n",
        "palette = sns.color_palette()\n",
        "fig, axes = plt.subplots(figsize=(10,6))\n",
        "counts.plot(kind=\"bar\", ax=axes, color=palette)\n",
        "plt.xlabel('Diseases',labelpad=10)\n",
        "for container in axes.containers:\n",
        "    axes.bar_label(container)\n",
        "plt.show()"
      ],
      "metadata": {
        "id": "c6c06de6",
        "execution": {
          "iopub.status.busy": "2024-03-16T13:23:58.385963Z",
          "iopub.execute_input": "2024-03-16T13:23:58.386411Z",
          "iopub.status.idle": "2024-03-16T13:23:58.682235Z",
          "shell.execute_reply.started": "2024-03-16T13:23:58.386369Z",
          "shell.execute_reply": "2024-03-16T13:23:58.681192Z"
        },
        "trusted": true
      },
      "execution_count": null,
      "outputs": []
    },
    {
      "cell_type": "code",
      "source": [
        "fig, axs = plt.subplots(nrows=5, ncols=5, figsize=(15, 15))\n",
        "\n",
        "# Draw a distplot for each column and add it to the subplot\n",
        "for i, col in enumerate(data.columns):\n",
        "    sns.distplot(data[col], ax=axs[i//5, i%5])\n",
        "    axs[i//5, i%5].set_title(col)\n",
        "\n",
        "# Hide missing subplots\n",
        "for i in range(len(data.columns), 25):\n",
        "    axs[i//5, i%5].axis('off')\n",
        "\n",
        "#  Show charts\n",
        "plt.tight_layout()\n",
        "plt.show()"
      ],
      "metadata": {
        "id": "59c38f09",
        "execution": {
          "iopub.status.busy": "2024-03-16T13:23:58.683558Z",
          "iopub.execute_input": "2024-03-16T13:23:58.683995Z",
          "iopub.status.idle": "2024-03-16T13:24:06.194534Z",
          "shell.execute_reply.started": "2024-03-16T13:23:58.683965Z",
          "shell.execute_reply": "2024-03-16T13:24:06.193479Z"
        },
        "trusted": true
      },
      "execution_count": null,
      "outputs": []
    },
    {
      "cell_type": "code",
      "source": [
        "# Draw a boxplot for each column\n",
        "index = 0\n",
        "for i in range(0, len(data.columns) - 1, 4):\n",
        "    fig, axes = plt.subplots(nrows=1, ncols=4, figsize=(16, 4))\n",
        "    for j, ax in enumerate(axes.flat):\n",
        "        if index < len(data.columns) - 1:\n",
        "            sns.boxplot(data=data, x=data.columns[-1], y=data.columns[index], ax=ax)\n",
        "            ax.set_xticklabels(ax.get_xticklabels(), rotation=90)\n",
        "            index += 1\n",
        "    plt.tight_layout()\n",
        "    plt.show()"
      ],
      "metadata": {
        "id": "4f371b3d",
        "execution": {
          "iopub.status.busy": "2024-03-16T13:24:06.196272Z",
          "iopub.execute_input": "2024-03-16T13:24:06.196921Z",
          "iopub.status.idle": "2024-03-16T13:24:12.742486Z",
          "shell.execute_reply.started": "2024-03-16T13:24:06.196883Z",
          "shell.execute_reply": "2024-03-16T13:24:12.741325Z"
        },
        "trusted": true
      },
      "execution_count": null,
      "outputs": []
    },
    {
      "cell_type": "code",
      "source": [
        "data['Hemoglobin'].describe()"
      ],
      "metadata": {
        "id": "9249d44b",
        "execution": {
          "iopub.status.busy": "2024-03-16T13:24:12.743954Z",
          "iopub.execute_input": "2024-03-16T13:24:12.744309Z",
          "iopub.status.idle": "2024-03-16T13:24:12.75602Z",
          "shell.execute_reply.started": "2024-03-16T13:24:12.744267Z",
          "shell.execute_reply": "2024-03-16T13:24:12.754589Z"
        },
        "trusted": true
      },
      "execution_count": null,
      "outputs": []
    },
    {
      "cell_type": "code",
      "source": [
        "X = data.drop('Disease',axis=1)\n",
        "y = data['Disease']"
      ],
      "metadata": {
        "id": "89b8720d",
        "execution": {
          "iopub.status.busy": "2024-03-16T13:24:12.75762Z",
          "iopub.execute_input": "2024-03-16T13:24:12.757966Z",
          "iopub.status.idle": "2024-03-16T13:24:12.76475Z",
          "shell.execute_reply.started": "2024-03-16T13:24:12.757936Z",
          "shell.execute_reply": "2024-03-16T13:24:12.763725Z"
        },
        "trusted": true
      },
      "execution_count": null,
      "outputs": []
    },
    {
      "cell_type": "code",
      "source": [
        "X"
      ],
      "metadata": {
        "id": "0e566f52",
        "execution": {
          "iopub.status.busy": "2024-03-16T13:24:12.766276Z",
          "iopub.execute_input": "2024-03-16T13:24:12.766728Z",
          "iopub.status.idle": "2024-03-16T13:24:12.805519Z",
          "shell.execute_reply.started": "2024-03-16T13:24:12.766686Z",
          "shell.execute_reply": "2024-03-16T13:24:12.804246Z"
        },
        "trusted": true
      },
      "execution_count": null,
      "outputs": []
    },
    {
      "cell_type": "code",
      "source": [
        "y"
      ],
      "metadata": {
        "id": "7a694aaa",
        "execution": {
          "iopub.status.busy": "2024-03-16T13:24:12.809193Z",
          "iopub.execute_input": "2024-03-16T13:24:12.809553Z",
          "iopub.status.idle": "2024-03-16T13:24:12.818633Z",
          "shell.execute_reply.started": "2024-03-16T13:24:12.809522Z",
          "shell.execute_reply": "2024-03-16T13:24:12.817358Z"
        },
        "trusted": true
      },
      "execution_count": null,
      "outputs": []
    },
    {
      "cell_type": "markdown",
      "source": [
        "# ANN"
      ],
      "metadata": {
        "id": "6a4e33a3"
      }
    },
    {
      "cell_type": "code",
      "source": [
        "from sklearn.model_selection import train_test_split"
      ],
      "metadata": {
        "id": "385dcf91",
        "execution": {
          "iopub.status.busy": "2024-03-16T13:24:12.820505Z",
          "iopub.execute_input": "2024-03-16T13:24:12.820903Z",
          "iopub.status.idle": "2024-03-16T13:24:12.826855Z",
          "shell.execute_reply.started": "2024-03-16T13:24:12.82087Z",
          "shell.execute_reply": "2024-03-16T13:24:12.825742Z"
        },
        "trusted": true
      },
      "execution_count": null,
      "outputs": []
    },
    {
      "cell_type": "code",
      "source": [
        "X_train, X_test, y_train, y_test = train_test_split(X,y, test_size=0.2,random_state=10,stratify= y)"
      ],
      "metadata": {
        "id": "c4bf6abf",
        "execution": {
          "iopub.status.busy": "2024-03-16T13:24:12.82797Z",
          "iopub.execute_input": "2024-03-16T13:24:12.828274Z",
          "iopub.status.idle": "2024-03-16T13:24:12.842279Z",
          "shell.execute_reply.started": "2024-03-16T13:24:12.828246Z",
          "shell.execute_reply": "2024-03-16T13:24:12.841358Z"
        },
        "trusted": true
      },
      "execution_count": null,
      "outputs": []
    },
    {
      "cell_type": "code",
      "source": [
        "results = pd.DataFrame([],columns=['Accuracy','train Accuracy'])"
      ],
      "metadata": {
        "execution": {
          "iopub.status.busy": "2024-03-16T13:26:15.191983Z",
          "iopub.execute_input": "2024-03-16T13:26:15.192405Z",
          "iopub.status.idle": "2024-03-16T13:26:15.200294Z",
          "shell.execute_reply.started": "2024-03-16T13:26:15.192373Z",
          "shell.execute_reply": "2024-03-16T13:26:15.198815Z"
        },
        "trusted": true,
        "id": "1SzTpTULeEoa"
      },
      "execution_count": null,
      "outputs": []
    },
    {
      "cell_type": "code",
      "source": [
        "print('train shape:',X_train.shape)\n",
        "print('test shape: ',X_test.shape)"
      ],
      "metadata": {
        "id": "9be68492",
        "execution": {
          "iopub.status.busy": "2024-03-16T13:24:12.843226Z",
          "iopub.execute_input": "2024-03-16T13:24:12.843522Z",
          "iopub.status.idle": "2024-03-16T13:24:12.849377Z",
          "shell.execute_reply.started": "2024-03-16T13:24:12.843496Z",
          "shell.execute_reply": "2024-03-16T13:24:12.848554Z"
        },
        "trusted": true
      },
      "execution_count": null,
      "outputs": []
    },
    {
      "cell_type": "code",
      "source": [
        "# standardization\n",
        "scaler = StandardScaler()\n",
        "X_train_scaled = scaler.fit_transform(X_train)\n",
        "X_test_scaled = scaler.transform(X_test)\n",
        "\n",
        "# create ann model\n",
        "ann = tf.keras.models.Sequential()\n",
        "ann.add(tf.keras.layers.Dense(256, activation='relu', input_shape=(X_train_scaled.shape[1],)))\n",
        "ann.add(tf.keras.layers.Dropout(0.2))\n",
        "ann.add(tf.keras.layers.Dense(128, activation='relu'))\n",
        "ann.add(tf.keras.layers.Dropout(0.2))\n",
        "ann.add(tf.keras.layers.Dense(64,activation='relu'))\n",
        "ann.add(tf.keras.layers.Dropout(0.2))\n",
        "ann.add( tf.keras.layers.Dense(6, activation='softmax'))"
      ],
      "metadata": {
        "id": "e3a36f9e",
        "execution": {
          "iopub.status.busy": "2024-03-16T13:24:12.8506Z",
          "iopub.execute_input": "2024-03-16T13:24:12.850958Z",
          "iopub.status.idle": "2024-03-16T13:24:12.933488Z",
          "shell.execute_reply.started": "2024-03-16T13:24:12.850929Z",
          "shell.execute_reply": "2024-03-16T13:24:12.932378Z"
        },
        "trusted": true
      },
      "execution_count": null,
      "outputs": []
    },
    {
      "cell_type": "code",
      "source": [
        "# let's compile our model.\n",
        "ann.compile(optimizer = 'adam', loss = 'sparse_categorical_crossentropy', metrics = ['accuracy'])"
      ],
      "metadata": {
        "id": "cbdff4ab",
        "execution": {
          "iopub.status.busy": "2024-03-16T13:24:12.93485Z",
          "iopub.execute_input": "2024-03-16T13:24:12.935174Z",
          "iopub.status.idle": "2024-03-16T13:24:12.946084Z",
          "shell.execute_reply.started": "2024-03-16T13:24:12.935145Z",
          "shell.execute_reply": "2024-03-16T13:24:12.944884Z"
        },
        "trusted": true
      },
      "execution_count": null,
      "outputs": []
    },
    {
      "cell_type": "code",
      "source": [
        "# Let's add an early stop command.\n",
        "early_stopping = tf.keras.callbacks.EarlyStopping(patience=30, restore_best_weights=True, monitor='val_loss')"
      ],
      "metadata": {
        "id": "7234ed94",
        "execution": {
          "iopub.status.busy": "2024-03-16T13:24:12.947826Z",
          "iopub.execute_input": "2024-03-16T13:24:12.948182Z",
          "iopub.status.idle": "2024-03-16T13:24:12.954452Z",
          "shell.execute_reply.started": "2024-03-16T13:24:12.948152Z",
          "shell.execute_reply": "2024-03-16T13:24:12.952979Z"
        },
        "trusted": true
      },
      "execution_count": null,
      "outputs": []
    },
    {
      "cell_type": "code",
      "source": [
        "# model fit\n",
        "history = ann.fit(X_train_scaled, y_train, epochs=100,\n",
        "                    validation_split=0.1, callbacks=[early_stopping], verbose=2)"
      ],
      "metadata": {
        "id": "bb55f8d2",
        "execution": {
          "iopub.status.busy": "2024-03-16T13:24:12.962641Z",
          "iopub.execute_input": "2024-03-16T13:24:12.963053Z",
          "iopub.status.idle": "2024-03-16T13:24:24.831919Z",
          "shell.execute_reply.started": "2024-03-16T13:24:12.96302Z",
          "shell.execute_reply": "2024-03-16T13:24:24.830837Z"
        },
        "trusted": true
      },
      "execution_count": null,
      "outputs": []
    },
    {
      "cell_type": "code",
      "source": [
        "print('test set',ann.evaluate(X_test_scaled,y_test)) # test set result\n",
        "print('train set',ann.evaluate(X_train_scaled,y_train)) # train set result"
      ],
      "metadata": {
        "id": "e963c5ee",
        "execution": {
          "iopub.status.busy": "2024-03-16T13:24:24.836063Z",
          "iopub.execute_input": "2024-03-16T13:24:24.836403Z",
          "iopub.status.idle": "2024-03-16T13:24:25.146715Z",
          "shell.execute_reply.started": "2024-03-16T13:24:24.836376Z",
          "shell.execute_reply": "2024-03-16T13:24:25.14541Z"
        },
        "trusted": true
      },
      "execution_count": null,
      "outputs": []
    },
    {
      "cell_type": "code",
      "source": [
        "ann_acc = ann.evaluate(X_test_scaled,y_test)\n",
        "train_accuracy = ann.evaluate(X_train_scaled,y_train)\n",
        "results.loc['ANN Model'] = [ann_acc,train_accuracy]"
      ],
      "metadata": {
        "id": "Gza1XDEKSndF",
        "execution": {
          "iopub.status.busy": "2024-03-16T13:26:26.668951Z",
          "iopub.execute_input": "2024-03-16T13:26:26.669339Z",
          "iopub.status.idle": "2024-03-16T13:26:26.958846Z",
          "shell.execute_reply.started": "2024-03-16T13:26:26.669309Z",
          "shell.execute_reply": "2024-03-16T13:26:26.957577Z"
        },
        "trusted": true
      },
      "execution_count": null,
      "outputs": []
    },
    {
      "cell_type": "code",
      "source": [
        "#  Let's plot the training set and validation set losses on a graph.\n",
        "plt.figure(figsize=(15,6))\n",
        "plt.subplot(1,2,1)\n",
        "plt.plot(history.history['loss'])\n",
        "plt.plot(history.history['val_loss'])\n",
        "plt.legend(['loss','val_loss'])\n",
        "\n",
        "plt.subplot(1,2,2)\n",
        "plt.plot(history.history['accuracy'])\n",
        "plt.plot(history.history['val_accuracy'])\n",
        "plt.legend(['accuracy','val_accuracy'],loc='best')\n"
      ],
      "metadata": {
        "id": "77612d61",
        "execution": {
          "iopub.status.busy": "2024-03-16T13:26:30.533099Z",
          "iopub.execute_input": "2024-03-16T13:26:30.533514Z",
          "iopub.status.idle": "2024-03-16T13:26:31.145286Z",
          "shell.execute_reply.started": "2024-03-16T13:26:30.533483Z",
          "shell.execute_reply": "2024-03-16T13:26:31.144174Z"
        },
        "trusted": true
      },
      "execution_count": null,
      "outputs": []
    },
    {
      "cell_type": "code",
      "source": [
        "from sklearn.neighbors import KNeighborsClassifier"
      ],
      "metadata": {
        "id": "49ac90ac",
        "execution": {
          "iopub.status.busy": "2024-03-16T13:26:31.670005Z",
          "iopub.execute_input": "2024-03-16T13:26:31.671107Z",
          "iopub.status.idle": "2024-03-16T13:26:31.678475Z",
          "shell.execute_reply.started": "2024-03-16T13:26:31.671046Z",
          "shell.execute_reply": "2024-03-16T13:26:31.676962Z"
        },
        "trusted": true
      },
      "execution_count": null,
      "outputs": []
    },
    {
      "cell_type": "code",
      "source": [
        "# All score DataFrame\n",
        "results = pd.DataFrame([],columns=['Accuracy Score','Train Accuracy'])"
      ],
      "metadata": {
        "id": "Kg1Pz4MUqWuA",
        "execution": {
          "iopub.status.busy": "2024-03-16T13:26:32.214477Z",
          "iopub.execute_input": "2024-03-16T13:26:32.215463Z",
          "iopub.status.idle": "2024-03-16T13:26:32.222612Z",
          "shell.execute_reply.started": "2024-03-16T13:26:32.215423Z",
          "shell.execute_reply": "2024-03-16T13:26:32.221361Z"
        },
        "trusted": true
      },
      "execution_count": null,
      "outputs": []
    },
    {
      "cell_type": "code",
      "source": [
        "# # Create a pipeline\n",
        "# pipe = Pipeline([('scaler', StandardScaler()),('Classifier',RandomForestClassifier())])\n",
        "\n",
        "# # Create space of candidate learning algorithms and their hyperparameters\n",
        "# search_space = [{'Classifier': [LogisticRegression(max_iter=1000,solver='liblinear')],\n",
        "#                  'Classifier__C': np.logspace(-2, 2, 20),\n",
        "#                  'Classifier__penalty':['l1','l2']},\n",
        "#                 {'Classifier': [KNeighborsClassifier()],\n",
        "#                  'Classifier__n_neighbors':np.arange(1,10),\n",
        "#                 'Classifier__p': [1,2]},\n",
        "#                 {'Classifier': [RandomForestClassifier(random_state=20)],\n",
        "#                  'Classifier__n_estimators': [300,400,500],\n",
        "#                  'Classifier__max_features': ['sqrt',np.arange(6,24,3)],\n",
        "#                 'Classifier__ccp_alpha':np.logspace(-3,-1,15)},\n",
        "#                 {'Classifier': [GradientBoostingClassifier(random_state=10)],\n",
        "#                  'Classifier__n_estimators': [100, 500, 1000],\n",
        "#                  'Classifier__learning_rate':[0.001,0.01,0.1],\n",
        "#                 'Classifier__ccp_alpha':np.logspace(-3,0,10)}]\n",
        "\n",
        "# # Create grid search\n",
        "# clf = GridSearchCV(pipe, search_space, cv=StratifiedKFold(n_splits=3,shuffle=True,random_state=3),\n",
        "#                 verbose=1,scoring=\"accuracy\",n_jobs=-1)\n",
        "# # Model fit\n",
        "# best_model = clf.fit(X_train, y_train)\n",
        "\n",
        "# # View best model\n",
        "# best_model.best_estimator_.get_params()"
      ],
      "metadata": {
        "id": "62a5c374",
        "execution": {
          "iopub.status.busy": "2024-03-16T13:26:32.382695Z",
          "iopub.execute_input": "2024-03-16T13:26:32.383127Z",
          "iopub.status.idle": "2024-03-16T13:26:32.388814Z",
          "shell.execute_reply.started": "2024-03-16T13:26:32.383093Z",
          "shell.execute_reply": "2024-03-16T13:26:32.387995Z"
        },
        "trusted": true
      },
      "execution_count": null,
      "outputs": []
    },
    {
      "cell_type": "code",
      "source": [
        "from sklearn.metrics import accuracy_score\n",
        "from sklearn.metrics import roc_auc_score, confusion_matrix,ConfusionMatrixDisplay"
      ],
      "metadata": {
        "id": "-QzAqvDqImBC",
        "execution": {
          "iopub.status.busy": "2024-03-16T13:26:32.565315Z",
          "iopub.execute_input": "2024-03-16T13:26:32.565973Z",
          "iopub.status.idle": "2024-03-16T13:26:32.570592Z",
          "shell.execute_reply.started": "2024-03-16T13:26:32.565938Z",
          "shell.execute_reply": "2024-03-16T13:26:32.56978Z"
        },
        "trusted": true
      },
      "execution_count": null,
      "outputs": []
    },
    {
      "cell_type": "code",
      "source": [
        "# Standardization\n",
        "scaler = StandardScaler()\n",
        "X_train_scaled = scaler.fit_transform(X_train)\n",
        "X_test_scaled = scaler.transform(X_test)\n",
        "# Create model\n",
        "model = GradientBoostingClassifier(ccp_alpha=0.001, learning_rate=0.01,\n",
        "                            n_estimators=500, random_state=10)\n",
        "# Model fit\n",
        "model.fit(X_train_scaled,y_train)\n",
        "# model predict\n",
        "y_pred = model.predict(X_test_scaled)\n",
        "acc= accuracy_score(y_test,y_pred)\n",
        "\n",
        "print('GradientBoostingClassifier accuracy is:',acc)\n"
      ],
      "metadata": {
        "id": "400977ff",
        "execution": {
          "iopub.status.busy": "2024-03-16T13:26:32.727391Z",
          "iopub.execute_input": "2024-03-16T13:26:32.728056Z",
          "iopub.status.idle": "2024-03-16T13:26:58.688138Z",
          "shell.execute_reply.started": "2024-03-16T13:26:32.728021Z",
          "shell.execute_reply": "2024-03-16T13:26:58.686894Z"
        },
        "trusted": true
      },
      "execution_count": null,
      "outputs": []
    },
    {
      "cell_type": "code",
      "source": [
        "# train set predict\n",
        "y_train_pred = model.predict(X_train_scaled)\n",
        "train_acc = accuracy_score(y_train,y_train_pred)\n",
        "print('train set accuracy is:',train_acc)\n",
        "\n",
        "\n",
        "results.loc['GradientBoostingClassifier'] = [acc,train_acc]"
      ],
      "metadata": {
        "id": "Q9SV0lPy9o1i",
        "execution": {
          "iopub.status.busy": "2024-03-16T13:26:58.690373Z",
          "iopub.execute_input": "2024-03-16T13:26:58.690772Z",
          "iopub.status.idle": "2024-03-16T13:26:58.746051Z",
          "shell.execute_reply.started": "2024-03-16T13:26:58.69072Z",
          "shell.execute_reply": "2024-03-16T13:26:58.744879Z"
        },
        "trusted": true
      },
      "execution_count": null,
      "outputs": []
    },
    {
      "cell_type": "code",
      "source": [
        "!pip install pydotplus"
      ],
      "metadata": {
        "execution": {
          "iopub.status.busy": "2024-03-16T13:28:09.297982Z",
          "iopub.execute_input": "2024-03-16T13:28:09.298389Z",
          "iopub.status.idle": "2024-03-16T13:28:28.499381Z",
          "shell.execute_reply.started": "2024-03-16T13:28:09.298359Z",
          "shell.execute_reply": "2024-03-16T13:28:28.497962Z"
        },
        "trusted": true,
        "id": "M8RppPFqeEod"
      },
      "execution_count": null,
      "outputs": []
    },
    {
      "cell_type": "code",
      "source": [
        "from sklearn.tree import export_graphviz\n",
        "from pydotplus import graph_from_dot_data\n",
        "from IPython.display import Image\n",
        "\n",
        "sub_tree_42 = model.estimators_[42,0]\n",
        "\n",
        "dot_data = export_graphviz(\n",
        "    sub_tree_42,\n",
        "    rotate = True,\n",
        "    out_file=None, filled=True, rounded=True,\n",
        "    special_characters=True,\n",
        "    proportion=True, impurity=True, # enable them if you want\n",
        ")\n",
        "graph = graph_from_dot_data(dot_data)\n",
        "png = graph.create_png()\n",
        "# Display\n",
        "Image(png)"
      ],
      "metadata": {
        "id": "HpASNS9D-VuN",
        "execution": {
          "iopub.status.busy": "2024-03-16T13:28:36.687673Z",
          "iopub.execute_input": "2024-03-16T13:28:36.688191Z",
          "iopub.status.idle": "2024-03-16T13:28:37.17692Z",
          "shell.execute_reply.started": "2024-03-16T13:28:36.688149Z",
          "shell.execute_reply": "2024-03-16T13:28:37.175783Z"
        },
        "trusted": true
      },
      "execution_count": null,
      "outputs": []
    },
    {
      "cell_type": "code",
      "source": [
        "# auc score of the multiclass model.\n",
        "y_proba =np.array(model.predict_proba(X_test_scaled))\n",
        "score = roc_auc_score(y_test,y_proba,multi_class='ovr',average='macro')\n",
        "print('auc score of the multiclass model is:',score)"
      ],
      "metadata": {
        "id": "jfpe1zKC5_ZT",
        "execution": {
          "iopub.status.busy": "2024-03-16T13:28:44.866443Z",
          "iopub.execute_input": "2024-03-16T13:28:44.866908Z",
          "iopub.status.idle": "2024-03-16T13:28:44.900776Z",
          "shell.execute_reply.started": "2024-03-16T13:28:44.866869Z",
          "shell.execute_reply": "2024-03-16T13:28:44.899551Z"
        },
        "trusted": true
      },
      "execution_count": null,
      "outputs": []
    },
    {
      "cell_type": "code",
      "source": [
        "# confusion matrix\n",
        "disp = ConfusionMatrixDisplay(confusion_matrix=confusion_matrix(y_test,y_pred),\n",
        "                              display_labels=model.classes_)\n",
        "disp.plot(cmap='plasma')\n",
        "\n",
        "plt.show()"
      ],
      "metadata": {
        "id": "6r5-umvJ6w8E",
        "execution": {
          "iopub.status.busy": "2024-03-16T13:28:45.233716Z",
          "iopub.execute_input": "2024-03-16T13:28:45.234294Z",
          "iopub.status.idle": "2024-03-16T13:28:45.642042Z",
          "shell.execute_reply.started": "2024-03-16T13:28:45.23424Z",
          "shell.execute_reply": "2024-03-16T13:28:45.640849Z"
        },
        "trusted": true
      },
      "execution_count": null,
      "outputs": []
    },
    {
      "cell_type": "markdown",
      "source": [
        "# DecisionTreeClassifier"
      ],
      "metadata": {
        "id": "TTlS1m1SojnP"
      }
    },
    {
      "cell_type": "code",
      "source": [
        "mdl = DecisionTreeClassifier()\n",
        "\n",
        "path= mdl.cost_complexity_pruning_path(X_train,y_train)\n",
        "path['ccp_alphas']"
      ],
      "metadata": {
        "id": "OgvwqYF0oy-w",
        "execution": {
          "iopub.status.busy": "2024-03-16T13:28:45.917294Z",
          "iopub.execute_input": "2024-03-16T13:28:45.917679Z",
          "iopub.status.idle": "2024-03-16T13:28:45.954958Z",
          "shell.execute_reply.started": "2024-03-16T13:28:45.917649Z",
          "shell.execute_reply": "2024-03-16T13:28:45.953638Z"
        },
        "trusted": true
      },
      "execution_count": null,
      "outputs": []
    },
    {
      "cell_type": "code",
      "source": [
        "# pipe = Pipeline([('scaler',StandardScaler()),('tree',DecisionTreeClassifier())])\n",
        "\n",
        "# parameters = [{'tree':[DecisionTreeClassifier(random_state=2)],\n",
        "#                'tree__max_features':np.arange(1,25),\n",
        "#                'tree__ccp_alpha':path['ccp_alphas']}]\n",
        "\n",
        "# grid = GridSearchCV(pipe,param_grid=parameters,cv=StratifiedKFold(n_splits=3,shuffle=True,random_state=0),\n",
        "#                     scoring='accuracy',n_jobs=-1, verbose=2)\n",
        "\n",
        "# best_mdl = grid.fit(X_train,y_train)\n",
        "\n",
        "# best_mdl.best_estimator_.get_params()"
      ],
      "metadata": {
        "id": "fLIHS9ME4u_j",
        "execution": {
          "iopub.status.busy": "2024-03-16T13:28:46.15201Z",
          "iopub.execute_input": "2024-03-16T13:28:46.1531Z",
          "iopub.status.idle": "2024-03-16T13:28:46.158149Z",
          "shell.execute_reply.started": "2024-03-16T13:28:46.153054Z",
          "shell.execute_reply": "2024-03-16T13:28:46.156898Z"
        },
        "trusted": true
      },
      "execution_count": null,
      "outputs": []
    },
    {
      "cell_type": "code",
      "source": [
        "# standardization\n",
        "scaler = StandardScaler()\n",
        "X_train_scaled = scaler.fit_transform(X_train)\n",
        "X_test_scaled = scaler.transform(X_test)\n",
        "\n",
        "# create model\n",
        "mdl = DecisionTreeClassifier(random_state=2,max_features=18,ccp_alpha=0.002478180717510433)\n",
        "# model fit\n",
        "mdl.fit(X_train_scaled,y_train)\n",
        "# test set predict\n",
        "y_pred = mdl.predict(X_test_scaled)\n",
        "# train set predict\n",
        "y_tpred = mdl.predict(X_train_scaled)\n",
        "\n",
        "train_score = accuracy_score(y_train,y_tpred)\n",
        "score = accuracy_score(y_test,y_pred)\n",
        "print('DecisionTreeClassifier accuracy is:',score)\n",
        "print('DecisionTreeClassifier train accuracy is:',train_score)\n",
        "\n",
        "results.loc['DecisionTreeClassifier'] = [score,train_score]"
      ],
      "metadata": {
        "id": "0TP9NvKql9Fq",
        "execution": {
          "iopub.status.busy": "2024-03-16T13:28:46.382462Z",
          "iopub.execute_input": "2024-03-16T13:28:46.382922Z",
          "iopub.status.idle": "2024-03-16T13:28:46.424144Z",
          "shell.execute_reply.started": "2024-03-16T13:28:46.382877Z",
          "shell.execute_reply": "2024-03-16T13:28:46.42293Z"
        },
        "trusted": true
      },
      "execution_count": null,
      "outputs": []
    },
    {
      "cell_type": "code",
      "source": [
        "from sklearn import tree"
      ],
      "metadata": {
        "id": "9Ssj2rnWmyIY",
        "execution": {
          "iopub.status.busy": "2024-03-16T13:28:46.588434Z",
          "iopub.execute_input": "2024-03-16T13:28:46.588864Z",
          "iopub.status.idle": "2024-03-16T13:28:46.595035Z",
          "shell.execute_reply.started": "2024-03-16T13:28:46.588828Z",
          "shell.execute_reply": "2024-03-16T13:28:46.593638Z"
        },
        "trusted": true
      },
      "execution_count": null,
      "outputs": []
    },
    {
      "cell_type": "code",
      "source": [
        "# plot tree\n",
        "fig = plt.figure(figsize=(25,20))\n",
        "_ = tree.plot_tree(mdl,filled=True)"
      ],
      "metadata": {
        "id": "v7xbBqWHmbUj",
        "execution": {
          "iopub.status.busy": "2024-03-16T13:28:46.957255Z",
          "iopub.execute_input": "2024-03-16T13:28:46.957672Z",
          "iopub.status.idle": "2024-03-16T13:28:50.605184Z",
          "shell.execute_reply.started": "2024-03-16T13:28:46.957639Z",
          "shell.execute_reply": "2024-03-16T13:28:50.604086Z"
        },
        "trusted": true
      },
      "execution_count": null,
      "outputs": []
    },
    {
      "cell_type": "markdown",
      "source": [
        "# XGBClassifier"
      ],
      "metadata": {
        "id": "0bhqHAUJByzk"
      }
    },
    {
      "cell_type": "code",
      "source": [
        "from xgboost import XGBClassifier"
      ],
      "metadata": {
        "id": "vsOyRkYNpxvC",
        "execution": {
          "iopub.status.busy": "2024-03-16T13:28:50.607311Z",
          "iopub.execute_input": "2024-03-16T13:28:50.607635Z",
          "iopub.status.idle": "2024-03-16T13:28:50.613113Z",
          "shell.execute_reply.started": "2024-03-16T13:28:50.607607Z",
          "shell.execute_reply": "2024-03-16T13:28:50.611893Z"
        },
        "trusted": true
      },
      "execution_count": null,
      "outputs": []
    },
    {
      "cell_type": "code",
      "source": [
        "# xgbc = XGBClassifier()\n",
        "\n",
        "# pipe = Pipeline([('scaler',StandardScaler()),('boost',xgbc)])\n",
        "\n",
        "# params = [{'boost':[XGBClassifier(objective='softmax',eval_metric='merror')],\n",
        "#            'boost__max_depth': np.arange(3,10),\n",
        "#            'boost__learning_rate':[0.001,0.01,0.1,0.2],\n",
        "#            'boost__subsample': [0.5,1],\n",
        "#            'boost__n_estimators':[100,300,500,1000]}]\n",
        "\n",
        "# clf = GridSearchCV(pipe,params,\n",
        "#                    cv=StratifiedKFold(n_splits=3,shuffle=True,random_state=1),\n",
        "#                    scoring='accuracy',verbose=2,n_jobs=-1)\n",
        "\n",
        "# best_model = clf.fit(X_train,y_train)\n",
        "# best_model.best_estimator_.get_params()"
      ],
      "metadata": {
        "id": "NhKuFYrasEKP",
        "execution": {
          "iopub.status.busy": "2024-03-16T13:28:50.615165Z",
          "iopub.execute_input": "2024-03-16T13:28:50.61558Z",
          "iopub.status.idle": "2024-03-16T13:28:50.624106Z",
          "shell.execute_reply.started": "2024-03-16T13:28:50.615481Z",
          "shell.execute_reply": "2024-03-16T13:28:50.622906Z"
        },
        "trusted": true
      },
      "execution_count": null,
      "outputs": []
    },
    {
      "cell_type": "code",
      "source": [
        "# standardization\n",
        "scaler = StandardScaler()\n",
        "X_train_reduced = scaler.fit_transform(X_train)\n",
        "X_test_reduced = scaler.transform(X_test)\n",
        "# create model\n",
        "boost = XGBClassifier(n_estimators=1000, max_depth=9, learning_rate=0.01,\n",
        "                       subsample=1,objective='multi:softprob')\n",
        "# model fit\n",
        "boost.fit(X_train_reduced,y_train)\n",
        "# test set predict\n",
        "y_pred = boost.predict(X_test_reduced)\n",
        "# train set predict\n",
        "train_pred = boost.predict(X_train_reduced)\n",
        "\n",
        "xgb_train = accuracy_score(y_train,train_pred)\n",
        "xgb_acc = accuracy_score(y_test,y_pred)\n",
        "\n",
        "results.loc['XGBOOXGBClassifier'] = [xgb_acc,xgb_train]\n",
        "\n",
        "print('XGBOOXGBClassifier accuracy is:',xgb_acc)"
      ],
      "metadata": {
        "id": "DQMfKN0Wv7NG",
        "execution": {
          "iopub.status.busy": "2024-03-16T13:28:50.62766Z",
          "iopub.execute_input": "2024-03-16T13:28:50.628032Z",
          "iopub.status.idle": "2024-03-16T13:28:57.394835Z",
          "shell.execute_reply.started": "2024-03-16T13:28:50.628001Z",
          "shell.execute_reply": "2024-03-16T13:28:57.393216Z"
        },
        "trusted": true
      },
      "execution_count": null,
      "outputs": []
    },
    {
      "cell_type": "code",
      "source": [
        "from xgboost import plot_tree"
      ],
      "metadata": {
        "id": "UoEVlECnQrrD",
        "execution": {
          "iopub.status.busy": "2024-03-16T13:28:57.400069Z",
          "iopub.execute_input": "2024-03-16T13:28:57.400782Z",
          "iopub.status.idle": "2024-03-16T13:28:57.41173Z",
          "shell.execute_reply.started": "2024-03-16T13:28:57.400745Z",
          "shell.execute_reply": "2024-03-16T13:28:57.410179Z"
        },
        "trusted": true
      },
      "execution_count": null,
      "outputs": []
    },
    {
      "cell_type": "code",
      "source": [
        "plt.figure(figsize=(20,15))\n",
        "plot_tree(boost)\n",
        "plt.show()"
      ],
      "metadata": {
        "id": "aLrouBQ7QKB8",
        "execution": {
          "iopub.status.busy": "2024-03-16T13:28:57.413989Z",
          "iopub.execute_input": "2024-03-16T13:28:57.415236Z",
          "iopub.status.idle": "2024-03-16T13:28:59.300961Z",
          "shell.execute_reply.started": "2024-03-16T13:28:57.415198Z",
          "shell.execute_reply": "2024-03-16T13:28:59.299771Z"
        },
        "trusted": true
      },
      "execution_count": null,
      "outputs": []
    },
    {
      "cell_type": "markdown",
      "source": [
        "# Logistic Regression"
      ],
      "metadata": {
        "id": "CFA-sjcDMAfY"
      }
    },
    {
      "cell_type": "code",
      "source": [
        "# pipe = Pipeline([('scaler',StandardScaler()),('regression',LogisticRegression())])\n",
        "\n",
        "# mdl_params = [{'regression':[LogisticRegression(max_iter=1000,random_state=10)],\n",
        "#                'regression__C': [0.001, 0.01, 0.1, 1.0, 0.0],\n",
        "#                'regression__penalty':['l1','l2','elasticnet'],\n",
        "#                'regression__solver': ['saga'],\n",
        "#                'regression__multi_class':['multinomial']}]\n",
        "\n",
        "\n",
        "# clf = GridSearchCV(pipe,mdl_params,\n",
        "#                    cv=StratifiedKFold(n_splits=5,shuffle=True,random_state=1),\n",
        "#                    scoring='accuracy',verbose=2,n_jobs=-1)\n",
        "\n",
        "# best_model = clf.fit(X_train,y_train)\n",
        "# best_model.best_estimator_.get_params()"
      ],
      "metadata": {
        "id": "IS-15wCyCrWI",
        "execution": {
          "iopub.status.busy": "2024-03-16T13:28:59.302514Z",
          "iopub.execute_input": "2024-03-16T13:28:59.302976Z",
          "iopub.status.idle": "2024-03-16T13:28:59.30847Z",
          "shell.execute_reply.started": "2024-03-16T13:28:59.302944Z",
          "shell.execute_reply": "2024-03-16T13:28:59.307218Z"
        },
        "trusted": true
      },
      "execution_count": null,
      "outputs": []
    },
    {
      "cell_type": "code",
      "source": [
        "# standardization\n",
        "scaler = StandardScaler()\n",
        "X_train_reduced = scaler.fit_transform(X_train)\n",
        "X_test_reduced = scaler.transform(X_test)\n",
        "\n",
        "# Create model\n",
        "logmodel = LogisticRegression(max_iter= 1000, solver = 'saga', penalty= 'l1',\n",
        "                              random_state = 10, C = 1.0, multi_class = 'multinomial')\n",
        "# model fit\n",
        "logmodel.fit(X_train_reduced,y_train)\n",
        "# test set predict\n",
        "y_pred = logmodel.predict(X_test_reduced)\n",
        "# train set predict\n",
        "train_pred = logmodel.predict(X_train_reduced)\n",
        "\n",
        "logmodel_train = accuracy_score(y_train,train_pred)\n",
        "logmodel_acc = accuracy_score(y_test,y_pred)\n",
        "\n",
        "results.loc['LogisticRegression'] = [logmodel_acc,logmodel_train]\n",
        "\n",
        "print('LogisticRegression accuracy is:',logmodel_acc)\n"
      ],
      "metadata": {
        "id": "BGj_WbvfGrg-",
        "execution": {
          "iopub.status.busy": "2024-03-16T13:28:59.310007Z",
          "iopub.execute_input": "2024-03-16T13:28:59.310389Z",
          "iopub.status.idle": "2024-03-16T13:29:01.275707Z",
          "shell.execute_reply.started": "2024-03-16T13:28:59.310348Z",
          "shell.execute_reply": "2024-03-16T13:29:01.271507Z"
        },
        "trusted": true
      },
      "execution_count": null,
      "outputs": []
    },
    {
      "cell_type": "code",
      "source": [
        "results"
      ],
      "metadata": {
        "id": "f3buQQVpNCGh",
        "execution": {
          "iopub.status.busy": "2024-03-16T13:29:01.278079Z",
          "iopub.execute_input": "2024-03-16T13:29:01.278816Z",
          "iopub.status.idle": "2024-03-16T13:29:01.298375Z",
          "shell.execute_reply.started": "2024-03-16T13:29:01.278728Z",
          "shell.execute_reply": "2024-03-16T13:29:01.296688Z"
        },
        "trusted": true
      },
      "execution_count": null,
      "outputs": []
    },
    {
      "cell_type": "code",
      "source": [
        "# Accuracy Score\n",
        "from matplotlib import pyplot as plt\n",
        "results['Accuracy Score'].plot(kind='line', figsize=(8, 4), title='Accuracy Score')\n",
        "plt.gca().spines[['top', 'right']].set_visible(False)"
      ],
      "metadata": {
        "id": "vUK9KLJwNv_0",
        "execution": {
          "iopub.status.busy": "2024-03-16T13:29:01.305133Z",
          "iopub.execute_input": "2024-03-16T13:29:01.307546Z",
          "iopub.status.idle": "2024-03-16T13:29:01.648227Z",
          "shell.execute_reply.started": "2024-03-16T13:29:01.307479Z",
          "shell.execute_reply": "2024-03-16T13:29:01.646991Z"
        },
        "trusted": true
      },
      "execution_count": null,
      "outputs": []
    },
    {
      "cell_type": "code",
      "source": [],
      "metadata": {
        "id": "SdJ6_zGVeEog"
      },
      "execution_count": null,
      "outputs": []
    }
  ]
}